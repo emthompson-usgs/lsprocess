{
 "cells": [
  {
   "cell_type": "code",
   "execution_count": 142,
   "metadata": {
    "collapsed": true
   },
   "outputs": [],
   "source": [
    "%matplotlib inline"
   ]
  },
  {
   "cell_type": "code",
   "execution_count": 177,
   "metadata": {
    "collapsed": true
   },
   "outputs": [],
   "source": [
    "import numpy as np\n",
    "import fiona\n",
    "from shapely.geometry import Polygon,shape,MultiPoint,Point\n",
    "import os.path\n",
    "import matplotlib.pyplot as plt\n",
    "from functools import partial\n",
    "import pyproj\n",
    "from shapely.ops import transform"
   ]
  },
  {
   "cell_type": "code",
   "execution_count": 144,
   "metadata": {
    "collapsed": true
   },
   "outputs": [],
   "source": [
    "shapefile = os.path.join(os.path.expanduser('~'),'data','landslide','northridge','northridge_dd.shp')"
   ]
  },
  {
   "cell_type": "code",
   "execution_count": 195,
   "metadata": {
    "collapsed": false
   },
   "outputs": [
    {
     "name": "stdout",
     "output_type": "stream",
     "text": [
      "11111\n",
      "Polygon\n"
     ]
    }
   ],
   "source": [
    "f = fiona.collection(shapefile,'r')\n",
    "shapes = list(f)\n",
    "xmin,ymin,xmax,ymax = f.bounds\n",
    "f.close()\n",
    "print len(shapes)\n",
    "print shapes[0]['geometry']['type']"
   ]
  },
  {
   "cell_type": "code",
   "execution_count": 146,
   "metadata": {
    "collapsed": false
   },
   "outputs": [],
   "source": [
    "def plotPolygon(shape):\n",
    "    #shape is a dictionary with keys 'geometry' and 'coordinates'\n",
    "    #coordinates is a sequence of sequences of tuples of vertices of the polygon\n",
    "    coords = shape['geometry']['coordinates']\n",
    "    f = plt.figure()\n",
    "    for segment in coords:\n",
    "        x,y = zip(*segment)\n",
    "        print 'Plotting %i vertices from a shape' % len(x)\n",
    "        plt.plot(x,y)\n",
    "        plt.hold(True)"
   ]
  },
  {
   "cell_type": "code",
   "execution_count": 146,
   "metadata": {
    "collapsed": false
   },
   "outputs": [],
   "source": [
    "def plotShapes(shapes):\n",
    "    #shape is a dictionary with keys 'geometry' and 'coordinates'\n",
    "    #coordinates is a sequence of sequences of tuples of vertices of the polygon\n",
    "    coords = shape['geometry']['coordinates']\n",
    "    f = plt.figure()\n",
    "    for segment in coords:\n",
    "        x,y = zip(*segment)\n",
    "        print 'Plotting %i vertices from a shape' % len(x)\n",
    "        plt.plot(x,y)\n",
    "        plt.hold(True)"
   ]
  },
  {
   "cell_type": "code",
   "execution_count": 147,
   "metadata": {
    "collapsed": false
   },
   "outputs": [
    {
     "name": "stdout",
     "output_type": "stream",
     "text": [
      "-119.074055183 -118.169284954 34.0004506188 34.6703072669\n",
      "7448 83072\n",
      "618720256\n",
      "-118.621670069\n"
     ]
    }
   ],
   "source": [
    "print xmin,xmax,ymin,ymax\n",
    "res = 10.0\n",
    "nrows = int(((ymax - ymin) * 111191)/res)\n",
    "ncols = int(((xmax - xmin) * 111191 * np.cos(np.radians(np.mean((ymin,ymax))))))\n",
    "print nrows,ncols\n",
    "print nrows*ncols\n",
    "print np.mean((xmin,xmax))"
   ]
  },
  {
   "cell_type": "code",
   "execution_count": 148,
   "metadata": {
    "collapsed": false
   },
   "outputs": [],
   "source": [
    "latmiddle = ymin + (ymax-ymin)/2.0\n",
    "lonmiddle = xmin + (xmax-xmin)/2.0\n",
    "projstr = '+proj=ortho +lat_0=%.4f +lon_0=%.4f +x_0=0.0 +y_0=0.0'\n",
    "\n",
    "proj = pyproj.Proj(projparams=projstr % (latmiddle,lonmiddle))\n",
    "project = partial(\n",
    "    pyproj.transform,\n",
    "    pyproj.Proj(projparams='+proj=latlong'),\n",
    "    proj)"
   ]
  },
  {
   "cell_type": "code",
   "execution_count": 149,
   "metadata": {
    "collapsed": false
   },
   "outputs": [],
   "source": [
    "g1 = shape(shapes[0]['geometry'])"
   ]
  },
  {
   "cell_type": "code",
   "execution_count": 150,
   "metadata": {
    "collapsed": false
   },
   "outputs": [],
   "source": [
    "g2 = transform(project, g1)"
   ]
  },
  {
   "cell_type": "code",
   "execution_count": 151,
   "metadata": {
    "collapsed": false
   },
   "outputs": [],
   "source": [
    "x,y = zip(*g2.boundary.coords)"
   ]
  },
  {
   "cell_type": "code",
   "execution_count": 152,
   "metadata": {
    "collapsed": false
   },
   "outputs": [
    {
     "data": {
      "text/plain": [
       "[<matplotlib.lines.Line2D at 0x111f74110>]"
      ]
     },
     "execution_count": 152,
     "metadata": {},
     "output_type": "execute_result"
    },
    {
     "data": {
      "image/png": "[encoded data removed]",
      "text/plain": [
       "<matplotlib.figure.Figure at 0x110312fd0>"
      ]
     },
     "metadata": {},
     "output_type": "display_data"
    }
   ],
   "source": [
    "plt.plot(x,y)"
   ]
  },
  {
   "cell_type": "code",
   "execution_count": 153,
   "metadata": {
    "collapsed": false
   },
   "outputs": [
    {
     "name": "stdout",
     "output_type": "stream",
     "text": [
      "-41746.3182989 41751.8426918 -37193.2310869 37373.730265\n"
     ]
    }
   ],
   "source": [
    "ulx,uly = proj(xmin,ymax)\n",
    "llx,lly = proj(xmin,ymin)\n",
    "urx,ury = proj(xmax,ymax)\n",
    "lrx,lry = proj(xmax,ymin)\n",
    "pxmin = np.min((ulx,llx))\n",
    "pxmax = np.max((urx,lrx))\n",
    "pymin = np.min((lly,lry))\n",
    "pymax = np.max((uly,ury))\n",
    "print pxmin,pxmax,pymin,pymax"
   ]
  },
  {
   "cell_type": "code",
   "execution_count": 154,
   "metadata": {
    "collapsed": false
   },
   "outputs": [
    {
     "name": "stdout",
     "output_type": "stream",
     "text": [
      "8351\n",
      "7458\n"
     ]
    }
   ],
   "source": [
    "res = 10.0\n",
    "xvar = np.arange(pxmin,pxmax+res,res)\n",
    "yvar = np.arange(pymin,pymax+res,res)\n",
    "ncols = len(xvar)\n",
    "nrows = len(yvar)\n",
    "print ncols\n",
    "print nrows"
   ]
  },
  {
   "cell_type": "code",
   "execution_count": 156,
   "metadata": {
    "collapsed": false
   },
   "outputs": [
    {
     "name": "stdout",
     "output_type": "stream",
     "text": [
      "-9279.50912206 -9213.05070223 37190.9826141 37286.1100104\n"
     ]
    }
   ],
   "source": [
    "polyxmin = np.min(x)\n",
    "polyxmax = np.max(x)\n",
    "polyymin = np.min(y)\n",
    "polyymax = np.max(y)\n",
    "print polyxmin,polyxmax,polyymin,polyymax"
   ]
  },
  {
   "cell_type": "code",
   "execution_count": 162,
   "metadata": {
    "collapsed": false
   },
   "outputs": [
    {
     "name": "stdout",
     "output_type": "stream",
     "text": [
      "Left column is 3246\n",
      "Value at left column is -9286.318\n",
      "Left edge of polygon is -9279.509\n",
      "Right column is 3254\n",
      "Value at right column is -9206.318\n",
      "Right edge of polygon is -9213.051\n",
      "Bottom row is 7438\n",
      "Value at Bottom row is 37186.769\n",
      "Bottom edge of polygon is 37190.983\n",
      "Top row is 7448\n",
      "Value at top row is 37286.769\n",
      "Top edge of polygon is 37286.110\n"
     ]
    }
   ],
   "source": [
    "#find the highest index in xvar where polyxmin - xvar is positive\n",
    "leftcol = np.where((polyxmin - xvar) > 0)[0].argmax()\n",
    "print 'Left column is %i' % leftcol\n",
    "print 'Value at left column is %.3f' %  xvar[leftcol]\n",
    "print 'Left edge of polygon is %.3f' %  polyxmin\n",
    "\n",
    "#find the lowest index in xvar where xvar - polyxmax is positive\n",
    "rightcol = np.where((xvar - polyxmax) > 0)[0][0]\n",
    "print 'Right column is %i' % rightcol\n",
    "print 'Value at right column is %.3f' %  xvar[rightcol]\n",
    "print 'Right edge of polygon is %.3f' %  polyxmax\n",
    "\n",
    "#find bottom row\n",
    "bottomrow = np.where((polyymin - yvar) > 0)[0].argmax()\n",
    "print 'Bottom row is %i' % bottomrow\n",
    "print 'Value at Bottom row is %.3f' %  yvar[bottomrow]\n",
    "print 'Bottom edge of polygon is %.3f' %  polyymin\n",
    "\n",
    "#find top row\n",
    "toprow = np.where((yvar - polyymax) > 0)[0][0]\n",
    "print 'Top row is %i' % toprow\n",
    "print 'Value at top row is %.3f' %  yvar[toprow]\n",
    "print 'Top edge of polygon is %.3f' %  polyymax"
   ]
  },
  {
   "cell_type": "code",
   "execution_count": 192,
   "metadata": {
    "collapsed": false
   },
   "outputs": [
    {
     "name": "stdout",
     "output_type": "stream",
     "text": [
      "[(-9226.3182988812623, 37196.768913128319), (-9216.3182988812623, 37196.768913128319), (-9246.3182988812623, 37206.768913128319), (-9236.3182988812623, 37206.768913128319), (-9226.3182988812623, 37206.768913128319), (-9246.3182988812623, 37216.768913128319), (-9236.3182988812623, 37216.768913128319), (-9226.3182988812623, 37216.768913128319), (-9246.3182988812623, 37226.768913128319), (-9236.3182988812623, 37226.768913128319), (-9256.3182988812623, 37236.768913128319), (-9246.3182988812623, 37236.768913128319), (-9236.3182988812623, 37236.768913128319), (-9256.3182988812623, 37246.768913128319), (-9246.3182988812623, 37246.768913128319), (-9266.3182988812623, 37256.768913128319), (-9256.3182988812623, 37256.768913128319), (-9266.3182988812623, 37266.768913128319), (-9256.3182988812623, 37266.768913128319), (-9276.3182988812623, 37276.768913128319), (-9266.3182988812623, 37276.768913128319)]\n"
     ]
    },
    {
     "data": {
      "image/png": "[encoded data removed]",
      "text/plain": [
       "<matplotlib.figure.Figure at 0x114699d10>"
      ]
     },
     "metadata": {},
     "output_type": "display_data"
    }
   ],
   "source": [
    "#Now generate the mesh of points that fall inside this polygon\n",
    "xp = np.arange(xvar[leftcol],xvar[rightcol]+res,res)\n",
    "yp = np.arange(yvar[bottomrow],yvar[toprow]+res,res)\n",
    "xmesh,ymesh = np.meshgrid(xp,yp)\n",
    "xy = zip(xmesh.flatten(),ymesh.flatten())\n",
    "yespoints = []\n",
    "x,y = zip(*g2.boundary.coords)\n",
    "plt.plot(x,y,'b')\n",
    "plt.hold(True)\n",
    "for point in xy:\n",
    "    if g2.contains(Point(point)):\n",
    "        yespoints.append(point)\n",
    "        plt.plot(point[0],point[1],'r.')\n",
    "print yespoints"
   ]
  },
  {
   "cell_type": "code",
   "execution_count": 190,
   "metadata": {
    "collapsed": false
   },
   "outputs": [
    {
     "name": "stdout",
     "output_type": "stream",
     "text": [
      "[(-9286.3182988812623, 37186.768913128319), (-9276.3182988812623, 37186.768913128319), (-9266.3182988812623, 37186.768913128319), (-9256.3182988812623, 37186.768913128319), (-9246.3182988812623, 37186.768913128319), (-9236.3182988812623, 37186.768913128319), (-9226.3182988812623, 37186.768913128319), (-9216.3182988812623, 37186.768913128319), (-9206.3182988812623, 37186.768913128319), (-9286.3182988812623, 37196.768913128319), (-9276.3182988812623, 37196.768913128319), (-9266.3182988812623, 37196.768913128319), (-9256.3182988812623, 37196.768913128319), (-9246.3182988812623, 37196.768913128319), (-9236.3182988812623, 37196.768913128319), (-9226.3182988812623, 37196.768913128319), (-9216.3182988812623, 37196.768913128319), (-9206.3182988812623, 37196.768913128319), (-9286.3182988812623, 37206.768913128319), (-9276.3182988812623, 37206.768913128319), (-9266.3182988812623, 37206.768913128319), (-9256.3182988812623, 37206.768913128319), (-9246.3182988812623, 37206.768913128319), (-9236.3182988812623, 37206.768913128319), (-9226.3182988812623, 37206.768913128319), (-9216.3182988812623, 37206.768913128319), (-9206.3182988812623, 37206.768913128319), (-9286.3182988812623, 37216.768913128319), (-9276.3182988812623, 37216.768913128319), (-9266.3182988812623, 37216.768913128319), (-9256.3182988812623, 37216.768913128319), (-9246.3182988812623, 37216.768913128319), (-9236.3182988812623, 37216.768913128319), (-9226.3182988812623, 37216.768913128319), (-9216.3182988812623, 37216.768913128319), (-9206.3182988812623, 37216.768913128319), (-9286.3182988812623, 37226.768913128319), (-9276.3182988812623, 37226.768913128319), (-9266.3182988812623, 37226.768913128319), (-9256.3182988812623, 37226.768913128319), (-9246.3182988812623, 37226.768913128319), (-9236.3182988812623, 37226.768913128319), (-9226.3182988812623, 37226.768913128319), (-9216.3182988812623, 37226.768913128319), (-9206.3182988812623, 37226.768913128319), (-9286.3182988812623, 37236.768913128319), (-9276.3182988812623, 37236.768913128319), (-9266.3182988812623, 37236.768913128319), (-9256.3182988812623, 37236.768913128319), (-9246.3182988812623, 37236.768913128319), (-9236.3182988812623, 37236.768913128319), (-9226.3182988812623, 37236.768913128319), (-9216.3182988812623, 37236.768913128319), (-9206.3182988812623, 37236.768913128319), (-9286.3182988812623, 37246.768913128319), (-9276.3182988812623, 37246.768913128319), (-9266.3182988812623, 37246.768913128319), (-9256.3182988812623, 37246.768913128319), (-9246.3182988812623, 37246.768913128319), (-9236.3182988812623, 37246.768913128319), (-9226.3182988812623, 37246.768913128319), (-9216.3182988812623, 37246.768913128319), (-9206.3182988812623, 37246.768913128319), (-9286.3182988812623, 37256.768913128319), (-9276.3182988812623, 37256.768913128319), (-9266.3182988812623, 37256.768913128319), (-9256.3182988812623, 37256.768913128319), (-9246.3182988812623, 37256.768913128319), (-9236.3182988812623, 37256.768913128319), (-9226.3182988812623, 37256.768913128319), (-9216.3182988812623, 37256.768913128319), (-9206.3182988812623, 37256.768913128319), (-9286.3182988812623, 37266.768913128319), (-9276.3182988812623, 37266.768913128319), (-9266.3182988812623, 37266.768913128319), (-9256.3182988812623, 37266.768913128319), (-9246.3182988812623, 37266.768913128319), (-9236.3182988812623, 37266.768913128319), (-9226.3182988812623, 37266.768913128319), (-9216.3182988812623, 37266.768913128319), (-9206.3182988812623, 37266.768913128319), (-9286.3182988812623, 37276.768913128319), (-9276.3182988812623, 37276.768913128319), (-9266.3182988812623, 37276.768913128319), (-9256.3182988812623, 37276.768913128319), (-9246.3182988812623, 37276.768913128319), (-9236.3182988812623, 37276.768913128319), (-9226.3182988812623, 37276.768913128319), (-9216.3182988812623, 37276.768913128319), (-9206.3182988812623, 37276.768913128319), (-9286.3182988812623, 37286.768913128319), (-9276.3182988812623, 37286.768913128319), (-9266.3182988812623, 37286.768913128319), (-9256.3182988812623, 37286.768913128319), (-9246.3182988812623, 37286.768913128319), (-9236.3182988812623, 37286.768913128319), (-9226.3182988812623, 37286.768913128319), (-9216.3182988812623, 37286.768913128319), (-9206.3182988812623, 37286.768913128319)]\n"
     ]
    }
   ],
   "source": [
    "print xy"
   ]
  },
  {
   "cell_type": "code",
   "execution_count": 181,
   "metadata": {
    "collapsed": false
   },
   "outputs": [
    {
     "name": "stdout",
     "output_type": "stream",
     "text": [
      "[(-9265.908436670825, 37286.11001035358), (-9264.303192032625, 37285.30481151431), (-9259.39668763359, 37279.173843408695), (-9257.5777718972, 37276.725402533535), (-9254.533010993451, 37271.81891715925), (-9250.875578847035, 37265.69908812365), (-9247.219959988472, 37257.74433291016), (-9242.959405797374, 37251.006954357705), (-9240.496353381852, 37247.32999592528), (-9236.243786267707, 37243.03901639459), (-9233.782547217532, 37237.52713162072), (-9231.97705864594, 37232.02031123264), (-9229.515819752438, 37226.50842610294), (-9226.48267298743, 37220.37848627692), (-9221.587782783015, 37213.02406215852), (-9217.325415534682, 37208.12160765145), (-9214.895391156386, 37202.6092161806), (-9213.050702228285, 37194.65650000858), (-9214.271936398454, 37190.982614050175), (-9234.383546499086, 37197.10262164913), (-9238.629688749004, 37197.096597619966), (-9245.94019119554, 37203.22000809961), (-9248.994751320586, 37208.73796883336), (-9252.057298228721, 37216.70232893267), (-9252.065284976978, 37219.14872849827), (-9252.071458279015, 37223.43005406755), (-9252.682567216223, 37226.4940025619), (-9253.886998048914, 37229.564026459906), (-9259.986067520054, 37239.97279370248), (-9261.81478323826, 37243.03270848867), (-9266.680272302652, 37248.55270972437), (-9269.143324426856, 37252.22966766324), (-9271.584711363766, 37256.50292555665), (-9272.808743063788, 37260.79589567813), (-9274.614483079698, 37266.31839331327), (-9277.077284035498, 37269.979671980574), (-9279.509122063311, 37273.6571347877), (-9278.898998690833, 37280.39496725668), (-9277.689379450107, 37282.84539986695), (-9275.26396677163, 37283.464940574355), (-9270.38167581673, 37284.688848638136), (-9267.95601178044, 37285.29271054558), (-9265.908436670825, 37286.11001035358)]\n"
     ]
    }
   ],
   "source": [
    "print g2.exterior.coords[:]"
   ]
  },
  {
   "cell_type": "code",
   "execution_count": null,
   "metadata": {
    "collapsed": true
   },
   "outputs": [],
   "source": []
  }
 ],
 "metadata": {
  "kernelspec": {
   "display_name": "Python 2",
   "language": "python",
   "name": "python2"
  },
  "language_info": {
   "codemirror_mode": {
    "name": "ipython",
    "version": 2
   },
   "file_extension": ".py",
   "mimetype": "text/x-python",
   "name": "python",
   "nbconvert_exporter": "python",
   "pygments_lexer": "ipython2",
   "version": "2.7.10"
  }
 },
 "nbformat": 4,
 "nbformat_minor": 0
}
